{
 "cells": [
  {
   "cell_type": "markdown",
   "id": "629db4a9-7911-4f94-bbde-d145ef689fcb",
   "metadata": {},
   "source": [
    "# Data Analysis"
   ]
  },
  {
   "cell_type": "code",
   "execution_count": null,
   "id": "575de59a-f54f-4d41-aff5-7111cce5647d",
   "metadata": {},
   "outputs": [],
   "source": [
    "Aviatrix is a crash mechanics-based game. The player places a bet by launching an airplane and must land the plane before it explodes. \n",
    "The longer the plane flies, the higher the winning coefficient. If the player fails to land the plane in time and it explodes, \n",
    "they lose their bet. If the player successfully lands the plane, the winnings are calculated as the bet multiplied by the coefficient \n",
    "at the moment of landing. Based on the provided data, the following tasks need to be completed:\n",
    "\n",
    "1 Filter and describe errors in the data.\n",
    "2 Prepare a brief report with metrics that you believe are most useful for description.\n",
    "3 Attempt to evaluate user engagement: devise metrics and justify their use.\n",
    "4 What additional fields/events would you request to implement for more thorough research?"
   ]
  },
  {
   "cell_type": "code",
   "execution_count": 1,
   "id": "4e517c24-96ea-4634-bbae-a825b87ff6fc",
   "metadata": {
    "scrolled": true
   },
   "outputs": [
    {
     "data": {
      "text/html": [
       "<div>\n",
       "<style scoped>\n",
       "    .dataframe tbody tr th:only-of-type {\n",
       "        vertical-align: middle;\n",
       "    }\n",
       "\n",
       "    .dataframe tbody tr th {\n",
       "        vertical-align: top;\n",
       "    }\n",
       "\n",
       "    .dataframe thead th {\n",
       "        text-align: right;\n",
       "    }\n",
       "</style>\n",
       "<table border=\"1\" class=\"dataframe\">\n",
       "  <thead>\n",
       "    <tr style=\"text-align: right;\">\n",
       "      <th></th>\n",
       "      <th>CreatedAt</th>\n",
       "      <th>Currency</th>\n",
       "      <th>UserId</th>\n",
       "      <th>PlatformId</th>\n",
       "      <th>MatchId</th>\n",
       "      <th>stake_currency</th>\n",
       "      <th>stake_eur</th>\n",
       "      <th>won_currency</th>\n",
       "      <th>won_eur</th>\n",
       "    </tr>\n",
       "  </thead>\n",
       "  <tbody>\n",
       "    <tr>\n",
       "      <th>0</th>\n",
       "      <td>2023-03-20 15:01:13.304718058</td>\n",
       "      <td>KZT</td>\n",
       "      <td>wqsjm3ggga</td>\n",
       "      <td>platform_2</td>\n",
       "      <td>1013616</td>\n",
       "      <td>203.29</td>\n",
       "      <td>0.41</td>\n",
       "      <td>0.00</td>\n",
       "      <td>0.00</td>\n",
       "    </tr>\n",
       "    <tr>\n",
       "      <th>1</th>\n",
       "      <td>2023-03-13 13:40:07.304718058</td>\n",
       "      <td>TRY</td>\n",
       "      <td>enrlnd1u6y</td>\n",
       "      <td>platform_4</td>\n",
       "      <td>982714</td>\n",
       "      <td>1.88</td>\n",
       "      <td>0.09</td>\n",
       "      <td>5.79</td>\n",
       "      <td>0.29</td>\n",
       "    </tr>\n",
       "    <tr>\n",
       "      <th>2</th>\n",
       "      <td>2023-03-22 00:39:12.304718058</td>\n",
       "      <td>KZT</td>\n",
       "      <td>5nz03e471b</td>\n",
       "      <td>platform_1</td>\n",
       "      <td>1019784</td>\n",
       "      <td>605.22</td>\n",
       "      <td>1.21</td>\n",
       "      <td>0.00</td>\n",
       "      <td>0.00</td>\n",
       "    </tr>\n",
       "    <tr>\n",
       "      <th>3</th>\n",
       "      <td>2023-03-22 06:14:56.304718058</td>\n",
       "      <td>KZT</td>\n",
       "      <td>fiatnpu27d</td>\n",
       "      <td>platform_2</td>\n",
       "      <td>1020804</td>\n",
       "      <td>33.99</td>\n",
       "      <td>0.07</td>\n",
       "      <td>0.00</td>\n",
       "      <td>0.00</td>\n",
       "    </tr>\n",
       "    <tr>\n",
       "      <th>4</th>\n",
       "      <td>2023-03-01 14:32:41.304718058</td>\n",
       "      <td>KZT</td>\n",
       "      <td>1zx0tpf58u</td>\n",
       "      <td>platform_1</td>\n",
       "      <td>930347</td>\n",
       "      <td>18.93</td>\n",
       "      <td>0.04</td>\n",
       "      <td>0.00</td>\n",
       "      <td>0.00</td>\n",
       "    </tr>\n",
       "  </tbody>\n",
       "</table>\n",
       "</div>"
      ],
      "text/plain": [
       "                       CreatedAt Currency      UserId  PlatformId  MatchId  \\\n",
       "0  2023-03-20 15:01:13.304718058      KZT  wqsjm3ggga  platform_2  1013616   \n",
       "1  2023-03-13 13:40:07.304718058      TRY  enrlnd1u6y  platform_4   982714   \n",
       "2  2023-03-22 00:39:12.304718058      KZT  5nz03e471b  platform_1  1019784   \n",
       "3  2023-03-22 06:14:56.304718058      KZT  fiatnpu27d  platform_2  1020804   \n",
       "4  2023-03-01 14:32:41.304718058      KZT  1zx0tpf58u  platform_1   930347   \n",
       "\n",
       "   stake_currency  stake_eur  won_currency  won_eur  \n",
       "0          203.29       0.41          0.00     0.00  \n",
       "1            1.88       0.09          5.79     0.29  \n",
       "2          605.22       1.21          0.00     0.00  \n",
       "3           33.99       0.07          0.00     0.00  \n",
       "4           18.93       0.04          0.00     0.00  "
      ]
     },
     "execution_count": 1,
     "metadata": {},
     "output_type": "execute_result"
    }
   ],
   "source": [
    "# import libraries\n",
    "import pandas as pd\n",
    "import numpy as np     \n",
    "import warnings \n",
    "import datetime \n",
    "import matplotlib.pyplot as plt \n",
    "warnings.filterwarnings(\"ignore\") \n",
    "pd.set_option('display.max_columns', None) \n",
    "\n",
    "# reading data from the file\n",
    "df = pd.read_csv('test_data.csv')  \n",
    "df.head()"
   ]
  },
  {
   "cell_type": "code",
   "execution_count": 2,
   "id": "d3d98c8d-d7ca-42eb-a269-f741fc5d6f41",
   "metadata": {},
   "outputs": [
    {
     "data": {
      "text/plain": [
       "(99989, 9)"
      ]
     },
     "execution_count": 2,
     "metadata": {},
     "output_type": "execute_result"
    }
   ],
   "source": [
    "# We have 9 columns and 99989 rows\n",
    "df.shape"
   ]
  },
  {
   "cell_type": "code",
   "execution_count": 3,
   "id": "cf63930a-3c07-47fc-8d2c-5584f15e5eff",
   "metadata": {},
   "outputs": [
    {
     "name": "stdout",
     "output_type": "stream",
     "text": [
      "<class 'pandas.core.frame.DataFrame'>\n",
      "RangeIndex: 99989 entries, 0 to 99988\n",
      "Data columns (total 9 columns):\n",
      " #   Column          Non-Null Count  Dtype  \n",
      "---  ------          --------------  -----  \n",
      " 0   CreatedAt       99989 non-null  object \n",
      " 1   Currency        99989 non-null  object \n",
      " 2   UserId          99989 non-null  object \n",
      " 3   PlatformId      99989 non-null  object \n",
      " 4   MatchId         99989 non-null  int64  \n",
      " 5   stake_currency  99989 non-null  float64\n",
      " 6   stake_eur       99989 non-null  float64\n",
      " 7   won_currency    99989 non-null  float64\n",
      " 8   won_eur         99989 non-null  float64\n",
      "dtypes: float64(4), int64(1), object(4)\n",
      "memory usage: 6.9+ MB\n"
     ]
    }
   ],
   "source": [
    "# No NaN results \n",
    "df.info()"
   ]
  },
  {
   "cell_type": "code",
   "execution_count": 4,
   "id": "226e00a4-d1d2-44cc-a6d7-178da85b87be",
   "metadata": {},
   "outputs": [
    {
     "data": {
      "text/plain": [
       "23436"
      ]
     },
     "execution_count": 4,
     "metadata": {},
     "output_type": "execute_result"
    }
   ],
   "source": [
    "# Number of unique users 23436\n",
    "df['UserId'].nunique()"
   ]
  },
  {
   "cell_type": "code",
   "execution_count": 5,
   "id": "63fa6cca-d5c5-48b4-a8aa-86af39570be9",
   "metadata": {},
   "outputs": [
    {
     "data": {
      "text/html": [
       "<div>\n",
       "<style scoped>\n",
       "    .dataframe tbody tr th:only-of-type {\n",
       "        vertical-align: middle;\n",
       "    }\n",
       "\n",
       "    .dataframe tbody tr th {\n",
       "        vertical-align: top;\n",
       "    }\n",
       "\n",
       "    .dataframe thead th {\n",
       "        text-align: right;\n",
       "    }\n",
       "</style>\n",
       "<table border=\"1\" class=\"dataframe\">\n",
       "  <thead>\n",
       "    <tr style=\"text-align: right;\">\n",
       "      <th></th>\n",
       "      <th>MatchId</th>\n",
       "      <th>stake_currency</th>\n",
       "      <th>stake_eur</th>\n",
       "      <th>won_currency</th>\n",
       "      <th>won_eur</th>\n",
       "    </tr>\n",
       "  </thead>\n",
       "  <tbody>\n",
       "    <tr>\n",
       "      <th>count</th>\n",
       "      <td>9.998900e+04</td>\n",
       "      <td>99989.000000</td>\n",
       "      <td>99989.000000</td>\n",
       "      <td>99989.000000</td>\n",
       "      <td>99989.000000</td>\n",
       "    </tr>\n",
       "    <tr>\n",
       "      <th>mean</th>\n",
       "      <td>9.998062e+05</td>\n",
       "      <td>341.426431</td>\n",
       "      <td>1.598604</td>\n",
       "      <td>327.888584</td>\n",
       "      <td>1.491250</td>\n",
       "    </tr>\n",
       "    <tr>\n",
       "      <th>std</th>\n",
       "      <td>5.199881e+04</td>\n",
       "      <td>2614.545141</td>\n",
       "      <td>8.243046</td>\n",
       "      <td>5023.670546</td>\n",
       "      <td>14.491416</td>\n",
       "    </tr>\n",
       "    <tr>\n",
       "      <th>min</th>\n",
       "      <td>9.104570e+05</td>\n",
       "      <td>0.000000</td>\n",
       "      <td>0.000000</td>\n",
       "      <td>0.000000</td>\n",
       "      <td>0.000000</td>\n",
       "    </tr>\n",
       "    <tr>\n",
       "      <th>25%</th>\n",
       "      <td>9.550610e+05</td>\n",
       "      <td>9.990000</td>\n",
       "      <td>0.090000</td>\n",
       "      <td>0.000000</td>\n",
       "      <td>0.000000</td>\n",
       "    </tr>\n",
       "    <tr>\n",
       "      <th>50%</th>\n",
       "      <td>9.994690e+05</td>\n",
       "      <td>42.150000</td>\n",
       "      <td>0.210000</td>\n",
       "      <td>0.000000</td>\n",
       "      <td>0.000000</td>\n",
       "    </tr>\n",
       "    <tr>\n",
       "      <th>75%</th>\n",
       "      <td>1.045349e+06</td>\n",
       "      <td>128.420000</td>\n",
       "      <td>0.820000</td>\n",
       "      <td>37.870000</td>\n",
       "      <td>0.250000</td>\n",
       "    </tr>\n",
       "    <tr>\n",
       "      <th>max</th>\n",
       "      <td>1.089988e+06</td>\n",
       "      <td>150146.690000</td>\n",
       "      <td>320.050000</td>\n",
       "      <td>673841.930000</td>\n",
       "      <td>1469.580000</td>\n",
       "    </tr>\n",
       "  </tbody>\n",
       "</table>\n",
       "</div>"
      ],
      "text/plain": [
       "            MatchId  stake_currency     stake_eur   won_currency       won_eur\n",
       "count  9.998900e+04    99989.000000  99989.000000   99989.000000  99989.000000\n",
       "mean   9.998062e+05      341.426431      1.598604     327.888584      1.491250\n",
       "std    5.199881e+04     2614.545141      8.243046    5023.670546     14.491416\n",
       "min    9.104570e+05        0.000000      0.000000       0.000000      0.000000\n",
       "25%    9.550610e+05        9.990000      0.090000       0.000000      0.000000\n",
       "50%    9.994690e+05       42.150000      0.210000       0.000000      0.000000\n",
       "75%    1.045349e+06      128.420000      0.820000      37.870000      0.250000\n",
       "max    1.089988e+06   150146.690000    320.050000  673841.930000   1469.580000"
      ]
     },
     "execution_count": 5,
     "metadata": {},
     "output_type": "execute_result"
    }
   ],
   "source": [
    "# We see the average, maximum and minimum values ​​in the columns\n",
    "# No negative values\n",
    "df.describe()"
   ]
  },
  {
   "cell_type": "code",
   "execution_count": 6,
   "id": "3b9c937d-974f-4f52-b978-f3a5f76f137f",
   "metadata": {},
   "outputs": [
    {
     "data": {
      "text/html": [
       "<div>\n",
       "<style scoped>\n",
       "    .dataframe tbody tr th:only-of-type {\n",
       "        vertical-align: middle;\n",
       "    }\n",
       "\n",
       "    .dataframe tbody tr th {\n",
       "        vertical-align: top;\n",
       "    }\n",
       "\n",
       "    .dataframe thead th {\n",
       "        text-align: right;\n",
       "    }\n",
       "</style>\n",
       "<table border=\"1\" class=\"dataframe\">\n",
       "  <thead>\n",
       "    <tr style=\"text-align: right;\">\n",
       "      <th></th>\n",
       "      <th>CreatedAt</th>\n",
       "      <th>Currency</th>\n",
       "      <th>UserId</th>\n",
       "      <th>PlatformId</th>\n",
       "      <th>MatchId</th>\n",
       "      <th>stake_currency</th>\n",
       "      <th>stake_eur</th>\n",
       "      <th>won_currency</th>\n",
       "      <th>won_eur</th>\n",
       "    </tr>\n",
       "  </thead>\n",
       "  <tbody>\n",
       "  </tbody>\n",
       "</table>\n",
       "</div>"
      ],
      "text/plain": [
       "Empty DataFrame\n",
       "Columns: [CreatedAt, Currency, UserId, PlatformId, MatchId, stake_currency, stake_eur, won_currency, won_eur]\n",
       "Index: []"
      ]
     },
     "execution_count": 6,
     "metadata": {},
     "output_type": "execute_result"
    }
   ],
   "source": [
    "# no duplicates \n",
    "duplicate = df[df.duplicated()] \n",
    "duplicate"
   ]
  },
  {
   "cell_type": "markdown",
   "id": "70f26ca0-ba6f-4b01-a540-0feb08eb846a",
   "metadata": {},
   "source": [
    "# 1. Filter and describe errors in the data."
   ]
  },
  {
   "cell_type": "markdown",
   "id": "b47f90c2-4c8a-452b-9578-72e2b09ed1bc",
   "metadata": {},
   "source": [
    "## 1.1 Let's check Date"
   ]
  },
  {
   "cell_type": "code",
   "execution_count": 7,
   "id": "e5886f8b-257a-438f-a8c0-5e7cee3cbe9d",
   "metadata": {},
   "outputs": [
    {
     "data": {
      "text/plain": [
       "'2023-02-25 00:00:02.304718058'"
      ]
     },
     "execution_count": 7,
     "metadata": {},
     "output_type": "execute_result"
    }
   ],
   "source": [
    "# min date - 2023-02-25\n",
    "min(df['CreatedAt'])"
   ]
  },
  {
   "cell_type": "code",
   "execution_count": 8,
   "id": "7983e98f-3c78-4c56-8771-34607282a0ff",
   "metadata": {},
   "outputs": [
    {
     "data": {
      "text/plain": [
       "'2023-04-06 23:37:06.304718058'"
      ]
     },
     "execution_count": 8,
     "metadata": {},
     "output_type": "execute_result"
    }
   ],
   "source": [
    "# max date - 2023-04-06\n",
    "max(df['CreatedAt'])"
   ]
  },
  {
   "cell_type": "code",
   "execution_count": 9,
   "id": "3c2528ee-d387-4e21-8453-83f4f39588aa",
   "metadata": {},
   "outputs": [
    {
     "data": {
      "text/plain": [
       "<Axes: xlabel='date'>"
      ]
     },
     "execution_count": 9,
     "metadata": {},
     "output_type": "execute_result"
    },
    {
     "data": {
      "image/png": "[encoded data removed]",
      "text/plain": [
       "<Figure size 1000x400 with 1 Axes>"
      ]
     },
     "metadata": {},
     "output_type": "display_data"
    }
   ],
   "source": [
    "# We don't see days with zero bets. This is good\n",
    "plt.rcParams[\"figure.figsize\"] = (10, 4)\n",
    "df['date'] = df['CreatedAt'].apply(pd.to_datetime).dt.date\n",
    "df.groupby(['date'])['UserId'].count().plot()"
   ]
  },
  {
   "cell_type": "markdown",
   "id": "0fe68b0e-fdca-4685-ba2c-85e9f8a5ff25",
   "metadata": {},
   "source": [
    "## 1.2 Let's check the correspondence between take_currency and stake_eur, won_currency and won_eur"
   ]
  },
  {
   "cell_type": "code",
   "execution_count": 10,
   "id": "7ebfa741-962a-4929-abe4-8bd06c2e01c8",
   "metadata": {},
   "outputs": [
    {
     "data": {
      "text/html": [
       "<div>\n",
       "<style scoped>\n",
       "    .dataframe tbody tr th:only-of-type {\n",
       "        vertical-align: middle;\n",
       "    }\n",
       "\n",
       "    .dataframe tbody tr th {\n",
       "        vertical-align: top;\n",
       "    }\n",
       "\n",
       "    .dataframe thead th {\n",
       "        text-align: right;\n",
       "    }\n",
       "</style>\n",
       "<table border=\"1\" class=\"dataframe\">\n",
       "  <thead>\n",
       "    <tr style=\"text-align: right;\">\n",
       "      <th></th>\n",
       "      <th>CreatedAt</th>\n",
       "      <th>Currency</th>\n",
       "      <th>UserId</th>\n",
       "      <th>PlatformId</th>\n",
       "      <th>MatchId</th>\n",
       "      <th>stake_currency</th>\n",
       "      <th>stake_eur</th>\n",
       "      <th>won_currency</th>\n",
       "      <th>won_eur</th>\n",
       "      <th>date</th>\n",
       "    </tr>\n",
       "  </thead>\n",
       "  <tbody>\n",
       "    <tr>\n",
       "      <th>5237</th>\n",
       "      <td>2023-03-10 19:18:40.304718058</td>\n",
       "      <td>AZN</td>\n",
       "      <td>0gdqrqabxe</td>\n",
       "      <td>platform_3</td>\n",
       "      <td>970695</td>\n",
       "      <td>0.0</td>\n",
       "      <td>0.0</td>\n",
       "      <td>0.00</td>\n",
       "      <td>0.0</td>\n",
       "      <td>2023-03-10</td>\n",
       "    </tr>\n",
       "    <tr>\n",
       "      <th>87516</th>\n",
       "      <td>2023-04-01 07:08:16.304718058</td>\n",
       "      <td>AZN</td>\n",
       "      <td>pra6xdwjfs</td>\n",
       "      <td>platform_3</td>\n",
       "      <td>1064955</td>\n",
       "      <td>0.0</td>\n",
       "      <td>0.0</td>\n",
       "      <td>0.01</td>\n",
       "      <td>0.0</td>\n",
       "      <td>2023-04-01</td>\n",
       "    </tr>\n",
       "  </tbody>\n",
       "</table>\n",
       "</div>"
      ],
      "text/plain": [
       "                           CreatedAt Currency      UserId  PlatformId  \\\n",
       "5237   2023-03-10 19:18:40.304718058      AZN  0gdqrqabxe  platform_3   \n",
       "87516  2023-04-01 07:08:16.304718058      AZN  pra6xdwjfs  platform_3   \n",
       "\n",
       "       MatchId  stake_currency  stake_eur  won_currency  won_eur        date  \n",
       "5237    970695             0.0        0.0          0.00      0.0  2023-03-10  \n",
       "87516  1064955             0.0        0.0          0.01      0.0  2023-04-01  "
      ]
     },
     "execution_count": 10,
     "metadata": {},
     "output_type": "execute_result"
    }
   ],
   "source": [
    "#There are 2 rows with stake_currency=0. Usually the bet value is > 0. Perhaps these are bets due to bonuses.\n",
    "# We need to check the use of bonuses\n",
    "df[df['stake_currency']==0]"
   ]
  },
  {
   "cell_type": "code",
   "execution_count": 11,
   "id": "6b7826a4-b944-494a-b9c1-696345ec9103",
   "metadata": {},
   "outputs": [],
   "source": [
    "# Let's remove them\n",
    "df = df[df['stake_currency']!=0]"
   ]
  },
  {
   "cell_type": "code",
   "execution_count": 12,
   "id": "1ae8d7d2-e618-4033-ab5a-7e703110eb4b",
   "metadata": {
    "scrolled": true
   },
   "outputs": [
    {
     "data": {
      "text/html": [
       "<div>\n",
       "<style scoped>\n",
       "    .dataframe tbody tr th:only-of-type {\n",
       "        vertical-align: middle;\n",
       "    }\n",
       "\n",
       "    .dataframe tbody tr th {\n",
       "        vertical-align: top;\n",
       "    }\n",
       "\n",
       "    .dataframe thead th {\n",
       "        text-align: right;\n",
       "    }\n",
       "</style>\n",
       "<table border=\"1\" class=\"dataframe\">\n",
       "  <thead>\n",
       "    <tr style=\"text-align: right;\">\n",
       "      <th></th>\n",
       "      <th>CreatedAt</th>\n",
       "      <th>Currency</th>\n",
       "      <th>UserId</th>\n",
       "      <th>PlatformId</th>\n",
       "      <th>MatchId</th>\n",
       "      <th>stake_currency</th>\n",
       "      <th>stake_eur</th>\n",
       "      <th>won_currency</th>\n",
       "      <th>won_eur</th>\n",
       "      <th>date</th>\n",
       "    </tr>\n",
       "  </thead>\n",
       "  <tbody>\n",
       "    <tr>\n",
       "      <th>777</th>\n",
       "      <td>2023-03-26 08:56:03.304718058</td>\n",
       "      <td>KZT</td>\n",
       "      <td>n9ker2uij0</td>\n",
       "      <td>platform_1</td>\n",
       "      <td>1038952</td>\n",
       "      <td>2.22</td>\n",
       "      <td>0.0</td>\n",
       "      <td>4.05</td>\n",
       "      <td>0.01</td>\n",
       "      <td>2023-03-26</td>\n",
       "    </tr>\n",
       "    <tr>\n",
       "      <th>1301</th>\n",
       "      <td>2023-03-28 10:49:49.304718058</td>\n",
       "      <td>KZT</td>\n",
       "      <td>hqljaln82w</td>\n",
       "      <td>platform_1</td>\n",
       "      <td>1048103</td>\n",
       "      <td>2.20</td>\n",
       "      <td>0.0</td>\n",
       "      <td>0.00</td>\n",
       "      <td>0.00</td>\n",
       "      <td>2023-03-28</td>\n",
       "    </tr>\n",
       "    <tr>\n",
       "      <th>1781</th>\n",
       "      <td>2023-02-26 12:20:18.304718058</td>\n",
       "      <td>KZT</td>\n",
       "      <td>5z9j6bp3ke</td>\n",
       "      <td>platform_3</td>\n",
       "      <td>917112</td>\n",
       "      <td>1.02</td>\n",
       "      <td>0.0</td>\n",
       "      <td>1.18</td>\n",
       "      <td>0.00</td>\n",
       "      <td>2023-02-26</td>\n",
       "    </tr>\n",
       "    <tr>\n",
       "      <th>2089</th>\n",
       "      <td>2023-03-28 07:35:46.304718058</td>\n",
       "      <td>TRY</td>\n",
       "      <td>mww55mwkas</td>\n",
       "      <td>platform_3</td>\n",
       "      <td>1047526</td>\n",
       "      <td>0.08</td>\n",
       "      <td>0.0</td>\n",
       "      <td>0.08</td>\n",
       "      <td>0.00</td>\n",
       "      <td>2023-03-28</td>\n",
       "    </tr>\n",
       "    <tr>\n",
       "      <th>2684</th>\n",
       "      <td>2023-03-20 05:49:15.304718058</td>\n",
       "      <td>KZT</td>\n",
       "      <td>t4au76z0un</td>\n",
       "      <td>platform_1</td>\n",
       "      <td>1011899</td>\n",
       "      <td>2.05</td>\n",
       "      <td>0.0</td>\n",
       "      <td>0.00</td>\n",
       "      <td>0.00</td>\n",
       "      <td>2023-03-20</td>\n",
       "    </tr>\n",
       "    <tr>\n",
       "      <th>...</th>\n",
       "      <td>...</td>\n",
       "      <td>...</td>\n",
       "      <td>...</td>\n",
       "      <td>...</td>\n",
       "      <td>...</td>\n",
       "      <td>...</td>\n",
       "      <td>...</td>\n",
       "      <td>...</td>\n",
       "      <td>...</td>\n",
       "      <td>...</td>\n",
       "    </tr>\n",
       "    <tr>\n",
       "      <th>98714</th>\n",
       "      <td>2023-03-05 11:46:57.304718058</td>\n",
       "      <td>KZT</td>\n",
       "      <td>86u9enqz6i</td>\n",
       "      <td>platform_1</td>\n",
       "      <td>947417</td>\n",
       "      <td>1.87</td>\n",
       "      <td>0.0</td>\n",
       "      <td>4.04</td>\n",
       "      <td>0.01</td>\n",
       "      <td>2023-03-05</td>\n",
       "    </tr>\n",
       "    <tr>\n",
       "      <th>98791</th>\n",
       "      <td>2023-03-13 13:15:58.304718058</td>\n",
       "      <td>KZT</td>\n",
       "      <td>u3q5tv1xkf</td>\n",
       "      <td>platform_2</td>\n",
       "      <td>982637</td>\n",
       "      <td>1.70</td>\n",
       "      <td>0.0</td>\n",
       "      <td>1.98</td>\n",
       "      <td>0.00</td>\n",
       "      <td>2023-03-13</td>\n",
       "    </tr>\n",
       "    <tr>\n",
       "      <th>99272</th>\n",
       "      <td>2023-03-14 21:28:59.304718058</td>\n",
       "      <td>TRY</td>\n",
       "      <td>vbycjxn3jv</td>\n",
       "      <td>platform_3</td>\n",
       "      <td>988571</td>\n",
       "      <td>0.05</td>\n",
       "      <td>0.0</td>\n",
       "      <td>0.14</td>\n",
       "      <td>0.01</td>\n",
       "      <td>2023-03-14</td>\n",
       "    </tr>\n",
       "    <tr>\n",
       "      <th>99328</th>\n",
       "      <td>2023-03-27 02:20:10.304718058</td>\n",
       "      <td>KZT</td>\n",
       "      <td>lodhtrre41</td>\n",
       "      <td>platform_1</td>\n",
       "      <td>1042141</td>\n",
       "      <td>2.08</td>\n",
       "      <td>0.0</td>\n",
       "      <td>4.50</td>\n",
       "      <td>0.01</td>\n",
       "      <td>2023-03-27</td>\n",
       "    </tr>\n",
       "    <tr>\n",
       "      <th>99390</th>\n",
       "      <td>2023-03-19 16:25:12.304718058</td>\n",
       "      <td>KZT</td>\n",
       "      <td>q1zujlrz7u</td>\n",
       "      <td>platform_1</td>\n",
       "      <td>1009410</td>\n",
       "      <td>2.48</td>\n",
       "      <td>0.0</td>\n",
       "      <td>0.00</td>\n",
       "      <td>0.00</td>\n",
       "      <td>2023-03-19</td>\n",
       "    </tr>\n",
       "  </tbody>\n",
       "</table>\n",
       "<p>260 rows × 10 columns</p>\n",
       "</div>"
      ],
      "text/plain": [
       "                           CreatedAt Currency      UserId  PlatformId  \\\n",
       "777    2023-03-26 08:56:03.304718058      KZT  n9ker2uij0  platform_1   \n",
       "1301   2023-03-28 10:49:49.304718058      KZT  hqljaln82w  platform_1   \n",
       "1781   2023-02-26 12:20:18.304718058      KZT  5z9j6bp3ke  platform_3   \n",
       "2089   2023-03-28 07:35:46.304718058      TRY  mww55mwkas  platform_3   \n",
       "2684   2023-03-20 05:49:15.304718058      KZT  t4au76z0un  platform_1   \n",
       "...                              ...      ...         ...         ...   \n",
       "98714  2023-03-05 11:46:57.304718058      KZT  86u9enqz6i  platform_1   \n",
       "98791  2023-03-13 13:15:58.304718058      KZT  u3q5tv1xkf  platform_2   \n",
       "99272  2023-03-14 21:28:59.304718058      TRY  vbycjxn3jv  platform_3   \n",
       "99328  2023-03-27 02:20:10.304718058      KZT  lodhtrre41  platform_1   \n",
       "99390  2023-03-19 16:25:12.304718058      KZT  q1zujlrz7u  platform_1   \n",
       "\n",
       "       MatchId  stake_currency  stake_eur  won_currency  won_eur        date  \n",
       "777    1038952            2.22        0.0          4.05     0.01  2023-03-26  \n",
       "1301   1048103            2.20        0.0          0.00     0.00  2023-03-28  \n",
       "1781    917112            1.02        0.0          1.18     0.00  2023-02-26  \n",
       "2089   1047526            0.08        0.0          0.08     0.00  2023-03-28  \n",
       "2684   1011899            2.05        0.0          0.00     0.00  2023-03-20  \n",
       "...        ...             ...        ...           ...      ...         ...  \n",
       "98714   947417            1.87        0.0          4.04     0.01  2023-03-05  \n",
       "98791   982637            1.70        0.0          1.98     0.00  2023-03-13  \n",
       "99272   988571            0.05        0.0          0.14     0.01  2023-03-14  \n",
       "99328  1042141            2.08        0.0          4.50     0.01  2023-03-27  \n",
       "99390  1009410            2.48        0.0          0.00     0.00  2023-03-19  \n",
       "\n",
       "[260 rows x 10 columns]"
      ]
     },
     "execution_count": 12,
     "metadata": {},
     "output_type": "execute_result"
    }
   ],
   "source": [
    "# There are 260 rows with stake_eur=0. This is mistake. \n",
    "# If stake_currency>0, then stake_eur>0. And vice versa\n",
    "df[df['stake_eur']==0]"
   ]
  },
  {
   "cell_type": "code",
   "execution_count": 13,
   "id": "adfa37bc-0825-4a3e-9819-925b66297cf4",
   "metadata": {},
   "outputs": [],
   "source": [
    "# Let's remove them\n",
    "df = df[df['stake_eur']!=0]"
   ]
  },
  {
   "cell_type": "code",
   "execution_count": 14,
   "id": "34841a5d-d1fa-49ea-909c-a1341e861ce0",
   "metadata": {},
   "outputs": [
    {
     "data": {
      "text/html": [
       "<div>\n",
       "<style scoped>\n",
       "    .dataframe tbody tr th:only-of-type {\n",
       "        vertical-align: middle;\n",
       "    }\n",
       "\n",
       "    .dataframe tbody tr th {\n",
       "        vertical-align: top;\n",
       "    }\n",
       "\n",
       "    .dataframe thead th {\n",
       "        text-align: right;\n",
       "    }\n",
       "</style>\n",
       "<table border=\"1\" class=\"dataframe\">\n",
       "  <thead>\n",
       "    <tr style=\"text-align: right;\">\n",
       "      <th></th>\n",
       "      <th>CreatedAt</th>\n",
       "      <th>Currency</th>\n",
       "      <th>UserId</th>\n",
       "      <th>PlatformId</th>\n",
       "      <th>MatchId</th>\n",
       "      <th>stake_currency</th>\n",
       "      <th>stake_eur</th>\n",
       "      <th>won_currency</th>\n",
       "      <th>won_eur</th>\n",
       "      <th>date</th>\n",
       "    </tr>\n",
       "  </thead>\n",
       "  <tbody>\n",
       "  </tbody>\n",
       "</table>\n",
       "</div>"
      ],
      "text/plain": [
       "Empty DataFrame\n",
       "Columns: [CreatedAt, Currency, UserId, PlatformId, MatchId, stake_currency, stake_eur, won_currency, won_eur, date]\n",
       "Index: []"
      ]
     },
     "execution_count": 14,
     "metadata": {},
     "output_type": "execute_result"
    }
   ],
   "source": [
    "# When won_currency=0, then won_eur equals zero\n",
    "df[(df['won_currency']==0)&(df['won_eur']>0)]"
   ]
  },
  {
   "cell_type": "code",
   "execution_count": 15,
   "id": "42d146d5-0906-4f64-9737-53dc35837471",
   "metadata": {
    "scrolled": true
   },
   "outputs": [
    {
     "data": {
      "text/html": [
       "<div>\n",
       "<style scoped>\n",
       "    .dataframe tbody tr th:only-of-type {\n",
       "        vertical-align: middle;\n",
       "    }\n",
       "\n",
       "    .dataframe tbody tr th {\n",
       "        vertical-align: top;\n",
       "    }\n",
       "\n",
       "    .dataframe thead th {\n",
       "        text-align: right;\n",
       "    }\n",
       "</style>\n",
       "<table border=\"1\" class=\"dataframe\">\n",
       "  <thead>\n",
       "    <tr style=\"text-align: right;\">\n",
       "      <th></th>\n",
       "      <th>CreatedAt</th>\n",
       "      <th>Currency</th>\n",
       "      <th>UserId</th>\n",
       "      <th>PlatformId</th>\n",
       "      <th>MatchId</th>\n",
       "      <th>stake_currency</th>\n",
       "      <th>stake_eur</th>\n",
       "      <th>won_currency</th>\n",
       "      <th>won_eur</th>\n",
       "      <th>date</th>\n",
       "    </tr>\n",
       "  </thead>\n",
       "  <tbody>\n",
       "  </tbody>\n",
       "</table>\n",
       "</div>"
      ],
      "text/plain": [
       "Empty DataFrame\n",
       "Columns: [CreatedAt, Currency, UserId, PlatformId, MatchId, stake_currency, stake_eur, won_currency, won_eur, date]\n",
       "Index: []"
      ]
     },
     "execution_count": 15,
     "metadata": {},
     "output_type": "execute_result"
    }
   ],
   "source": [
    "# When won_eur=0, then won_currency equals zero\n",
    "df[(df['won_eur']==0)&(df['won_currency']>0)]"
   ]
  },
  {
   "cell_type": "markdown",
   "id": "f4bd8721-d053-4052-98a9-7d0cdd9c3747",
   "metadata": {
    "scrolled": true
   },
   "source": [
    "## 1.3 Let's check MatchId"
   ]
  },
  {
   "cell_type": "code",
   "execution_count": 16,
   "id": "f216412a-5170-4eb4-8001-01e25bcd8543",
   "metadata": {
    "scrolled": true
   },
   "outputs": [
    {
     "data": {
      "text/html": [
       "<div>\n",
       "<style scoped>\n",
       "    .dataframe tbody tr th:only-of-type {\n",
       "        vertical-align: middle;\n",
       "    }\n",
       "\n",
       "    .dataframe tbody tr th {\n",
       "        vertical-align: top;\n",
       "    }\n",
       "\n",
       "    .dataframe thead th {\n",
       "        text-align: right;\n",
       "    }\n",
       "</style>\n",
       "<table border=\"1\" class=\"dataframe\">\n",
       "  <thead>\n",
       "    <tr style=\"text-align: right;\">\n",
       "      <th></th>\n",
       "      <th>CreatedAt</th>\n",
       "      <th>Currency</th>\n",
       "      <th>UserId</th>\n",
       "      <th>PlatformId</th>\n",
       "      <th>MatchId</th>\n",
       "      <th>stake_currency</th>\n",
       "      <th>stake_eur</th>\n",
       "      <th>won_currency</th>\n",
       "      <th>won_eur</th>\n",
       "      <th>date</th>\n",
       "      <th>MatchId_count</th>\n",
       "    </tr>\n",
       "  </thead>\n",
       "  <tbody>\n",
       "    <tr>\n",
       "      <th>301</th>\n",
       "      <td>2023-03-05 11:43:05.304718058</td>\n",
       "      <td>AZN</td>\n",
       "      <td>lsqknq717f</td>\n",
       "      <td>platform_3</td>\n",
       "      <td>947407</td>\n",
       "      <td>0.10</td>\n",
       "      <td>0.06</td>\n",
       "      <td>0.00</td>\n",
       "      <td>0.00</td>\n",
       "      <td>2023-03-05</td>\n",
       "      <td>2</td>\n",
       "    </tr>\n",
       "    <tr>\n",
       "      <th>378</th>\n",
       "      <td>2023-03-10 04:01:05.304718058</td>\n",
       "      <td>KZT</td>\n",
       "      <td>zo3m4x7k6z</td>\n",
       "      <td>platform_2</td>\n",
       "      <td>967892</td>\n",
       "      <td>35.57</td>\n",
       "      <td>0.08</td>\n",
       "      <td>0.00</td>\n",
       "      <td>0.00</td>\n",
       "      <td>2023-03-10</td>\n",
       "      <td>2</td>\n",
       "    </tr>\n",
       "    <tr>\n",
       "      <th>523</th>\n",
       "      <td>2023-03-08 19:11:57.304718058</td>\n",
       "      <td>TRY</td>\n",
       "      <td>37krazbp6q</td>\n",
       "      <td>platform_4</td>\n",
       "      <td>961845</td>\n",
       "      <td>5.58</td>\n",
       "      <td>0.28</td>\n",
       "      <td>11.82</td>\n",
       "      <td>0.59</td>\n",
       "      <td>2023-03-08</td>\n",
       "      <td>2</td>\n",
       "    </tr>\n",
       "    <tr>\n",
       "      <th>991</th>\n",
       "      <td>2023-03-11 13:01:51.304718058</td>\n",
       "      <td>KZT</td>\n",
       "      <td>9zyhmsngue</td>\n",
       "      <td>platform_2</td>\n",
       "      <td>973891</td>\n",
       "      <td>58.53</td>\n",
       "      <td>0.12</td>\n",
       "      <td>335.39</td>\n",
       "      <td>0.70</td>\n",
       "      <td>2023-03-11</td>\n",
       "      <td>2</td>\n",
       "    </tr>\n",
       "    <tr>\n",
       "      <th>1016</th>\n",
       "      <td>2023-03-11 19:17:15.304718058</td>\n",
       "      <td>KZT</td>\n",
       "      <td>4q1nc113sq</td>\n",
       "      <td>platform_2</td>\n",
       "      <td>975003</td>\n",
       "      <td>20.14</td>\n",
       "      <td>0.04</td>\n",
       "      <td>0.00</td>\n",
       "      <td>0.00</td>\n",
       "      <td>2023-03-11</td>\n",
       "      <td>2</td>\n",
       "    </tr>\n",
       "    <tr>\n",
       "      <th>...</th>\n",
       "      <td>...</td>\n",
       "      <td>...</td>\n",
       "      <td>...</td>\n",
       "      <td>...</td>\n",
       "      <td>...</td>\n",
       "      <td>...</td>\n",
       "      <td>...</td>\n",
       "      <td>...</td>\n",
       "      <td>...</td>\n",
       "      <td>...</td>\n",
       "      <td>...</td>\n",
       "    </tr>\n",
       "    <tr>\n",
       "      <th>99445</th>\n",
       "      <td>2023-03-06 09:49:47.304718058</td>\n",
       "      <td>KZT</td>\n",
       "      <td>tvtntppy8s</td>\n",
       "      <td>platform_2</td>\n",
       "      <td>951437</td>\n",
       "      <td>41.86</td>\n",
       "      <td>0.09</td>\n",
       "      <td>0.00</td>\n",
       "      <td>0.00</td>\n",
       "      <td>2023-03-06</td>\n",
       "      <td>2</td>\n",
       "    </tr>\n",
       "    <tr>\n",
       "      <th>99591</th>\n",
       "      <td>2023-03-15 14:21:47.304718058</td>\n",
       "      <td>KZT</td>\n",
       "      <td>psoah4fjnr</td>\n",
       "      <td>platform_2</td>\n",
       "      <td>991668</td>\n",
       "      <td>10.20</td>\n",
       "      <td>0.02</td>\n",
       "      <td>0.00</td>\n",
       "      <td>0.00</td>\n",
       "      <td>2023-03-15</td>\n",
       "      <td>2</td>\n",
       "    </tr>\n",
       "    <tr>\n",
       "      <th>99637</th>\n",
       "      <td>2023-03-12 02:09:45.304718058</td>\n",
       "      <td>KZT</td>\n",
       "      <td>e14i8i2cnx</td>\n",
       "      <td>platform_1</td>\n",
       "      <td>976253</td>\n",
       "      <td>45.68</td>\n",
       "      <td>0.10</td>\n",
       "      <td>0.00</td>\n",
       "      <td>0.00</td>\n",
       "      <td>2023-03-12</td>\n",
       "      <td>2</td>\n",
       "    </tr>\n",
       "    <tr>\n",
       "      <th>99744</th>\n",
       "      <td>2023-03-03 16:58:15.304718058</td>\n",
       "      <td>KZT</td>\n",
       "      <td>b5uzfrxwb8</td>\n",
       "      <td>platform_2</td>\n",
       "      <td>939580</td>\n",
       "      <td>42.10</td>\n",
       "      <td>0.09</td>\n",
       "      <td>114.50</td>\n",
       "      <td>0.25</td>\n",
       "      <td>2023-03-03</td>\n",
       "      <td>2</td>\n",
       "    </tr>\n",
       "    <tr>\n",
       "      <th>99943</th>\n",
       "      <td>2023-03-25 18:13:38.304718058</td>\n",
       "      <td>TRY</td>\n",
       "      <td>k6zopxevop</td>\n",
       "      <td>platform_4</td>\n",
       "      <td>1036243</td>\n",
       "      <td>121.72</td>\n",
       "      <td>5.94</td>\n",
       "      <td>141.19</td>\n",
       "      <td>6.88</td>\n",
       "      <td>2023-03-25</td>\n",
       "      <td>2</td>\n",
       "    </tr>\n",
       "  </tbody>\n",
       "</table>\n",
       "<p>372 rows × 11 columns</p>\n",
       "</div>"
      ],
      "text/plain": [
       "                           CreatedAt Currency      UserId  PlatformId  \\\n",
       "301    2023-03-05 11:43:05.304718058      AZN  lsqknq717f  platform_3   \n",
       "378    2023-03-10 04:01:05.304718058      KZT  zo3m4x7k6z  platform_2   \n",
       "523    2023-03-08 19:11:57.304718058      TRY  37krazbp6q  platform_4   \n",
       "991    2023-03-11 13:01:51.304718058      KZT  9zyhmsngue  platform_2   \n",
       "1016   2023-03-11 19:17:15.304718058      KZT  4q1nc113sq  platform_2   \n",
       "...                              ...      ...         ...         ...   \n",
       "99445  2023-03-06 09:49:47.304718058      KZT  tvtntppy8s  platform_2   \n",
       "99591  2023-03-15 14:21:47.304718058      KZT  psoah4fjnr  platform_2   \n",
       "99637  2023-03-12 02:09:45.304718058      KZT  e14i8i2cnx  platform_1   \n",
       "99744  2023-03-03 16:58:15.304718058      KZT  b5uzfrxwb8  platform_2   \n",
       "99943  2023-03-25 18:13:38.304718058      TRY  k6zopxevop  platform_4   \n",
       "\n",
       "       MatchId  stake_currency  stake_eur  won_currency  won_eur        date  \\\n",
       "301     947407            0.10       0.06          0.00     0.00  2023-03-05   \n",
       "378     967892           35.57       0.08          0.00     0.00  2023-03-10   \n",
       "523     961845            5.58       0.28         11.82     0.59  2023-03-08   \n",
       "991     973891           58.53       0.12        335.39     0.70  2023-03-11   \n",
       "1016    975003           20.14       0.04          0.00     0.00  2023-03-11   \n",
       "...        ...             ...        ...           ...      ...         ...   \n",
       "99445   951437           41.86       0.09          0.00     0.00  2023-03-06   \n",
       "99591   991668           10.20       0.02          0.00     0.00  2023-03-15   \n",
       "99637   976253           45.68       0.10          0.00     0.00  2023-03-12   \n",
       "99744   939580           42.10       0.09        114.50     0.25  2023-03-03   \n",
       "99943  1036243          121.72       5.94        141.19     6.88  2023-03-25   \n",
       "\n",
       "       MatchId_count  \n",
       "301                2  \n",
       "378                2  \n",
       "523                2  \n",
       "991                2  \n",
       "1016               2  \n",
       "...              ...  \n",
       "99445              2  \n",
       "99591              2  \n",
       "99637              2  \n",
       "99744              2  \n",
       "99943              2  \n",
       "\n",
       "[372 rows x 11 columns]"
      ]
     },
     "execution_count": 16,
     "metadata": {},
     "output_type": "execute_result"
    }
   ],
   "source": [
    "# It looks like the MatchId must be unique to the UserId\n",
    "# We see 372 non unique rows. And duplicates have the same CreatedAt\n",
    "df['MatchId_count'] = df.groupby(['UserId','MatchId'])['Currency'].transform('count')\n",
    "df[df['MatchId_count']>1]"
   ]
  },
  {
   "cell_type": "code",
   "execution_count": 17,
   "id": "9e71eac3-5f70-49e8-98c5-f1c4c3c229da",
   "metadata": {},
   "outputs": [],
   "source": [
    "# Let's remove them\n",
    "df = df[df['MatchId_count']==1]"
   ]
  },
  {
   "cell_type": "markdown",
   "id": "9a128fce-77c9-4f21-b5f5-21c884243a8d",
   "metadata": {},
   "source": [
    "## 1.4 Let's check currency"
   ]
  },
  {
   "cell_type": "code",
   "execution_count": 18,
   "id": "7e45c132-ccb7-446f-9ac3-877b66c379e1",
   "metadata": {},
   "outputs": [
    {
     "data": {
      "text/plain": [
       "Currency\n",
       "AZN    10698\n",
       "INR    14840\n",
       "KZT    56650\n",
       "TRY    17167\n",
       "Name: UserId, dtype: int64"
      ]
     },
     "execution_count": 18,
     "metadata": {},
     "output_type": "execute_result"
    }
   ],
   "source": [
    "# We have 4 currencies \n",
    "df.groupby(['Currency'])['UserId'].count()"
   ]
  },
  {
   "cell_type": "code",
   "execution_count": 19,
   "id": "40435535-8801-4b42-8163-04d9c99f14fe",
   "metadata": {
    "scrolled": true
   },
   "outputs": [
    {
     "data": {
      "text/html": [
       "<div>\n",
       "<style scoped>\n",
       "    .dataframe tbody tr th:only-of-type {\n",
       "        vertical-align: middle;\n",
       "    }\n",
       "\n",
       "    .dataframe tbody tr th {\n",
       "        vertical-align: top;\n",
       "    }\n",
       "\n",
       "    .dataframe thead th {\n",
       "        text-align: right;\n",
       "    }\n",
       "</style>\n",
       "<table border=\"1\" class=\"dataframe\">\n",
       "  <thead>\n",
       "    <tr style=\"text-align: right;\">\n",
       "      <th></th>\n",
       "      <th>CreatedAt</th>\n",
       "      <th>Currency</th>\n",
       "      <th>UserId</th>\n",
       "      <th>PlatformId</th>\n",
       "      <th>MatchId</th>\n",
       "      <th>stake_currency</th>\n",
       "      <th>stake_eur</th>\n",
       "      <th>won_currency</th>\n",
       "      <th>won_eur</th>\n",
       "      <th>date</th>\n",
       "      <th>MatchId_count</th>\n",
       "      <th>stake_eur_to_currency</th>\n",
       "      <th>won_eur_to_currency</th>\n",
       "    </tr>\n",
       "  </thead>\n",
       "  <tbody>\n",
       "    <tr>\n",
       "      <th>0</th>\n",
       "      <td>2023-03-20 15:01:13.304718058</td>\n",
       "      <td>KZT</td>\n",
       "      <td>wqsjm3ggga</td>\n",
       "      <td>platform_2</td>\n",
       "      <td>1013616</td>\n",
       "      <td>203.29</td>\n",
       "      <td>0.41</td>\n",
       "      <td>0.00</td>\n",
       "      <td>0.00</td>\n",
       "      <td>2023-03-20</td>\n",
       "      <td>1</td>\n",
       "      <td>495.83</td>\n",
       "      <td>0.00</td>\n",
       "    </tr>\n",
       "    <tr>\n",
       "      <th>1</th>\n",
       "      <td>2023-03-13 13:40:07.304718058</td>\n",
       "      <td>TRY</td>\n",
       "      <td>enrlnd1u6y</td>\n",
       "      <td>platform_4</td>\n",
       "      <td>982714</td>\n",
       "      <td>1.88</td>\n",
       "      <td>0.09</td>\n",
       "      <td>5.79</td>\n",
       "      <td>0.29</td>\n",
       "      <td>2023-03-13</td>\n",
       "      <td>1</td>\n",
       "      <td>20.89</td>\n",
       "      <td>19.97</td>\n",
       "    </tr>\n",
       "    <tr>\n",
       "      <th>2</th>\n",
       "      <td>2023-03-22 00:39:12.304718058</td>\n",
       "      <td>KZT</td>\n",
       "      <td>5nz03e471b</td>\n",
       "      <td>platform_1</td>\n",
       "      <td>1019784</td>\n",
       "      <td>605.22</td>\n",
       "      <td>1.21</td>\n",
       "      <td>0.00</td>\n",
       "      <td>0.00</td>\n",
       "      <td>2023-03-22</td>\n",
       "      <td>1</td>\n",
       "      <td>500.18</td>\n",
       "      <td>0.00</td>\n",
       "    </tr>\n",
       "    <tr>\n",
       "      <th>3</th>\n",
       "      <td>2023-03-22 06:14:56.304718058</td>\n",
       "      <td>KZT</td>\n",
       "      <td>fiatnpu27d</td>\n",
       "      <td>platform_2</td>\n",
       "      <td>1020804</td>\n",
       "      <td>33.99</td>\n",
       "      <td>0.07</td>\n",
       "      <td>0.00</td>\n",
       "      <td>0.00</td>\n",
       "      <td>2023-03-22</td>\n",
       "      <td>1</td>\n",
       "      <td>485.57</td>\n",
       "      <td>0.00</td>\n",
       "    </tr>\n",
       "    <tr>\n",
       "      <th>4</th>\n",
       "      <td>2023-03-01 14:32:41.304718058</td>\n",
       "      <td>KZT</td>\n",
       "      <td>1zx0tpf58u</td>\n",
       "      <td>platform_1</td>\n",
       "      <td>930347</td>\n",
       "      <td>18.93</td>\n",
       "      <td>0.04</td>\n",
       "      <td>0.00</td>\n",
       "      <td>0.00</td>\n",
       "      <td>2023-03-01</td>\n",
       "      <td>1</td>\n",
       "      <td>473.25</td>\n",
       "      <td>0.00</td>\n",
       "    </tr>\n",
       "    <tr>\n",
       "      <th>...</th>\n",
       "      <td>...</td>\n",
       "      <td>...</td>\n",
       "      <td>...</td>\n",
       "      <td>...</td>\n",
       "      <td>...</td>\n",
       "      <td>...</td>\n",
       "      <td>...</td>\n",
       "      <td>...</td>\n",
       "      <td>...</td>\n",
       "      <td>...</td>\n",
       "      <td>...</td>\n",
       "      <td>...</td>\n",
       "      <td>...</td>\n",
       "    </tr>\n",
       "    <tr>\n",
       "      <th>95</th>\n",
       "      <td>2023-03-18 03:10:05.304718058</td>\n",
       "      <td>KZT</td>\n",
       "      <td>1uudazqfcp</td>\n",
       "      <td>platform_1</td>\n",
       "      <td>1002609</td>\n",
       "      <td>474.18</td>\n",
       "      <td>0.97</td>\n",
       "      <td>0.00</td>\n",
       "      <td>0.00</td>\n",
       "      <td>2023-03-18</td>\n",
       "      <td>1</td>\n",
       "      <td>488.85</td>\n",
       "      <td>0.00</td>\n",
       "    </tr>\n",
       "    <tr>\n",
       "      <th>96</th>\n",
       "      <td>2023-03-20 13:07:09.304718058</td>\n",
       "      <td>INR</td>\n",
       "      <td>nib5obu402</td>\n",
       "      <td>platform_2</td>\n",
       "      <td>1013271</td>\n",
       "      <td>1.58</td>\n",
       "      <td>0.02</td>\n",
       "      <td>0.00</td>\n",
       "      <td>0.00</td>\n",
       "      <td>2023-03-20</td>\n",
       "      <td>1</td>\n",
       "      <td>79.00</td>\n",
       "      <td>0.00</td>\n",
       "    </tr>\n",
       "    <tr>\n",
       "      <th>97</th>\n",
       "      <td>2023-03-16 20:37:45.304718058</td>\n",
       "      <td>KZT</td>\n",
       "      <td>j40kzzjvyu</td>\n",
       "      <td>platform_1</td>\n",
       "      <td>997119</td>\n",
       "      <td>6552.78</td>\n",
       "      <td>13.35</td>\n",
       "      <td>0.00</td>\n",
       "      <td>0.00</td>\n",
       "      <td>2023-03-16</td>\n",
       "      <td>1</td>\n",
       "      <td>490.84</td>\n",
       "      <td>0.00</td>\n",
       "    </tr>\n",
       "    <tr>\n",
       "      <th>98</th>\n",
       "      <td>2023-04-01 17:56:26.304718058</td>\n",
       "      <td>KZT</td>\n",
       "      <td>armlddcfdm</td>\n",
       "      <td>platform_1</td>\n",
       "      <td>1066977</td>\n",
       "      <td>28.16</td>\n",
       "      <td>0.06</td>\n",
       "      <td>65.89</td>\n",
       "      <td>0.14</td>\n",
       "      <td>2023-04-01</td>\n",
       "      <td>1</td>\n",
       "      <td>469.33</td>\n",
       "      <td>470.64</td>\n",
       "    </tr>\n",
       "    <tr>\n",
       "      <th>99</th>\n",
       "      <td>2023-03-07 21:11:51.304718058</td>\n",
       "      <td>INR</td>\n",
       "      <td>lutc366k29</td>\n",
       "      <td>platform_3</td>\n",
       "      <td>957871</td>\n",
       "      <td>109.36</td>\n",
       "      <td>1.25</td>\n",
       "      <td>0.00</td>\n",
       "      <td>0.00</td>\n",
       "      <td>2023-03-07</td>\n",
       "      <td>1</td>\n",
       "      <td>87.49</td>\n",
       "      <td>0.00</td>\n",
       "    </tr>\n",
       "  </tbody>\n",
       "</table>\n",
       "<p>100 rows × 13 columns</p>\n",
       "</div>"
      ],
      "text/plain": [
       "                        CreatedAt Currency      UserId  PlatformId  MatchId  \\\n",
       "0   2023-03-20 15:01:13.304718058      KZT  wqsjm3ggga  platform_2  1013616   \n",
       "1   2023-03-13 13:40:07.304718058      TRY  enrlnd1u6y  platform_4   982714   \n",
       "2   2023-03-22 00:39:12.304718058      KZT  5nz03e471b  platform_1  1019784   \n",
       "3   2023-03-22 06:14:56.304718058      KZT  fiatnpu27d  platform_2  1020804   \n",
       "4   2023-03-01 14:32:41.304718058      KZT  1zx0tpf58u  platform_1   930347   \n",
       "..                            ...      ...         ...         ...      ...   \n",
       "95  2023-03-18 03:10:05.304718058      KZT  1uudazqfcp  platform_1  1002609   \n",
       "96  2023-03-20 13:07:09.304718058      INR  nib5obu402  platform_2  1013271   \n",
       "97  2023-03-16 20:37:45.304718058      KZT  j40kzzjvyu  platform_1   997119   \n",
       "98  2023-04-01 17:56:26.304718058      KZT  armlddcfdm  platform_1  1066977   \n",
       "99  2023-03-07 21:11:51.304718058      INR  lutc366k29  platform_3   957871   \n",
       "\n",
       "    stake_currency  stake_eur  won_currency  won_eur        date  \\\n",
       "0           203.29       0.41          0.00     0.00  2023-03-20   \n",
       "1             1.88       0.09          5.79     0.29  2023-03-13   \n",
       "2           605.22       1.21          0.00     0.00  2023-03-22   \n",
       "3            33.99       0.07          0.00     0.00  2023-03-22   \n",
       "4            18.93       0.04          0.00     0.00  2023-03-01   \n",
       "..             ...        ...           ...      ...         ...   \n",
       "95          474.18       0.97          0.00     0.00  2023-03-18   \n",
       "96            1.58       0.02          0.00     0.00  2023-03-20   \n",
       "97         6552.78      13.35          0.00     0.00  2023-03-16   \n",
       "98           28.16       0.06         65.89     0.14  2023-04-01   \n",
       "99          109.36       1.25          0.00     0.00  2023-03-07   \n",
       "\n",
       "    MatchId_count  stake_eur_to_currency  won_eur_to_currency  \n",
       "0               1                 495.83                 0.00  \n",
       "1               1                  20.89                19.97  \n",
       "2               1                 500.18                 0.00  \n",
       "3               1                 485.57                 0.00  \n",
       "4               1                 473.25                 0.00  \n",
       "..            ...                    ...                  ...  \n",
       "95              1                 488.85                 0.00  \n",
       "96              1                  79.00                 0.00  \n",
       "97              1                 490.84                 0.00  \n",
       "98              1                 469.33               470.64  \n",
       "99              1                  87.49                 0.00  \n",
       "\n",
       "[100 rows x 13 columns]"
      ]
     },
     "execution_count": 19,
     "metadata": {},
     "output_type": "execute_result"
    }
   ],
   "source": [
    "# We will compare currency in bet and won, with daily avg \n",
    "df['stake_eur_to_currency'] = round(df['stake_currency']/df['stake_eur'],2).fillna(0)\n",
    "df['won_eur_to_currency'] = round(df['won_currency']/df['won_eur'],2).fillna(0)\n",
    "df = df.replace([np.inf, -np.inf], np.nan)\n",
    "df.head(100)"
   ]
  },
  {
   "cell_type": "code",
   "execution_count": 20,
   "id": "1ec965a3-d63e-4940-8f9c-0fec6db6b4ea",
   "metadata": {},
   "outputs": [
    {
     "data": {
      "text/html": [
       "<div>\n",
       "<style scoped>\n",
       "    .dataframe tbody tr th:only-of-type {\n",
       "        vertical-align: middle;\n",
       "    }\n",
       "\n",
       "    .dataframe tbody tr th {\n",
       "        vertical-align: top;\n",
       "    }\n",
       "\n",
       "    .dataframe thead th {\n",
       "        text-align: right;\n",
       "    }\n",
       "</style>\n",
       "<table border=\"1\" class=\"dataframe\">\n",
       "  <thead>\n",
       "    <tr style=\"text-align: right;\">\n",
       "      <th></th>\n",
       "      <th>CreatedAt</th>\n",
       "      <th>Currency</th>\n",
       "      <th>UserId</th>\n",
       "      <th>PlatformId</th>\n",
       "      <th>MatchId</th>\n",
       "      <th>stake_currency</th>\n",
       "      <th>stake_eur</th>\n",
       "      <th>won_currency</th>\n",
       "      <th>won_eur</th>\n",
       "      <th>date</th>\n",
       "      <th>MatchId_count</th>\n",
       "      <th>stake_eur_to_currency</th>\n",
       "      <th>won_eur_to_currency</th>\n",
       "    </tr>\n",
       "  </thead>\n",
       "  <tbody>\n",
       "    <tr>\n",
       "      <th>408</th>\n",
       "      <td>2023-04-05 09:19:54.304718058</td>\n",
       "      <td>KZT</td>\n",
       "      <td>zz3h8h44pt</td>\n",
       "      <td>platform_1</td>\n",
       "      <td>1082977</td>\n",
       "      <td>2.78</td>\n",
       "      <td>0.01</td>\n",
       "      <td>4.89</td>\n",
       "      <td>0.01</td>\n",
       "      <td>2023-04-05</td>\n",
       "      <td>1</td>\n",
       "      <td>278.0</td>\n",
       "      <td>489.0</td>\n",
       "    </tr>\n",
       "    <tr>\n",
       "      <th>2359</th>\n",
       "      <td>2023-03-06 11:14:48.304718058</td>\n",
       "      <td>KZT</td>\n",
       "      <td>ic9r2adgvi</td>\n",
       "      <td>platform_2</td>\n",
       "      <td>951706</td>\n",
       "      <td>2.74</td>\n",
       "      <td>0.01</td>\n",
       "      <td>5.86</td>\n",
       "      <td>0.01</td>\n",
       "      <td>2023-03-06</td>\n",
       "      <td>1</td>\n",
       "      <td>274.0</td>\n",
       "      <td>586.0</td>\n",
       "    </tr>\n",
       "    <tr>\n",
       "      <th>4724</th>\n",
       "      <td>2023-04-04 21:14:07.304718058</td>\n",
       "      <td>KZT</td>\n",
       "      <td>ihy8ck7goz</td>\n",
       "      <td>platform_1</td>\n",
       "      <td>1080711</td>\n",
       "      <td>2.64</td>\n",
       "      <td>0.01</td>\n",
       "      <td>0.00</td>\n",
       "      <td>0.00</td>\n",
       "      <td>2023-04-04</td>\n",
       "      <td>1</td>\n",
       "      <td>264.0</td>\n",
       "      <td>0.0</td>\n",
       "    </tr>\n",
       "    <tr>\n",
       "      <th>5502</th>\n",
       "      <td>2023-03-22 08:57:52.304718058</td>\n",
       "      <td>KZT</td>\n",
       "      <td>b973ccd941</td>\n",
       "      <td>platform_1</td>\n",
       "      <td>1021306</td>\n",
       "      <td>2.61</td>\n",
       "      <td>0.01</td>\n",
       "      <td>5.21</td>\n",
       "      <td>0.01</td>\n",
       "      <td>2023-03-22</td>\n",
       "      <td>1</td>\n",
       "      <td>261.0</td>\n",
       "      <td>521.0</td>\n",
       "    </tr>\n",
       "    <tr>\n",
       "      <th>11271</th>\n",
       "      <td>2023-03-16 11:18:11.304718058</td>\n",
       "      <td>KZT</td>\n",
       "      <td>qxev146dqa</td>\n",
       "      <td>platform_1</td>\n",
       "      <td>995448</td>\n",
       "      <td>2.57</td>\n",
       "      <td>0.01</td>\n",
       "      <td>0.00</td>\n",
       "      <td>0.00</td>\n",
       "      <td>2023-03-16</td>\n",
       "      <td>1</td>\n",
       "      <td>257.0</td>\n",
       "      <td>0.0</td>\n",
       "    </tr>\n",
       "  </tbody>\n",
       "</table>\n",
       "</div>"
      ],
      "text/plain": [
       "                           CreatedAt Currency      UserId  PlatformId  \\\n",
       "408    2023-04-05 09:19:54.304718058      KZT  zz3h8h44pt  platform_1   \n",
       "2359   2023-03-06 11:14:48.304718058      KZT  ic9r2adgvi  platform_2   \n",
       "4724   2023-04-04 21:14:07.304718058      KZT  ihy8ck7goz  platform_1   \n",
       "5502   2023-03-22 08:57:52.304718058      KZT  b973ccd941  platform_1   \n",
       "11271  2023-03-16 11:18:11.304718058      KZT  qxev146dqa  platform_1   \n",
       "\n",
       "       MatchId  stake_currency  stake_eur  won_currency  won_eur        date  \\\n",
       "408    1082977            2.78       0.01          4.89     0.01  2023-04-05   \n",
       "2359    951706            2.74       0.01          5.86     0.01  2023-03-06   \n",
       "4724   1080711            2.64       0.01          0.00     0.00  2023-04-04   \n",
       "5502   1021306            2.61       0.01          5.21     0.01  2023-03-22   \n",
       "11271   995448            2.57       0.01          0.00     0.00  2023-03-16   \n",
       "\n",
       "       MatchId_count  stake_eur_to_currency  won_eur_to_currency  \n",
       "408                1                  278.0                489.0  \n",
       "2359               1                  274.0                586.0  \n",
       "4724               1                  264.0                  0.0  \n",
       "5502               1                  261.0                521.0  \n",
       "11271              1                  257.0                  0.0  "
      ]
     },
     "execution_count": 20,
     "metadata": {},
     "output_type": "execute_result"
    }
   ],
   "source": [
    "# Due to rounding of values ​​in bets and winnings, it is difficult to check whether the conversion is correct\n",
    "df[(df['Currency']=='KZT')&(df['stake_eur_to_currency']<300)].head()"
   ]
  },
  {
   "cell_type": "markdown",
   "id": "634645b8-74a1-4f58-848d-d2f05a7baf02",
   "metadata": {},
   "source": [
    "# 2.Prepare a brief report with metrics that you believe are most useful for description."
   ]
  },
  {
   "cell_type": "markdown",
   "id": "3b8db878-42d0-43d2-ab6d-133574729a22",
   "metadata": {},
   "source": [
    "## 2.1 GGR "
   ]
  },
  {
   "cell_type": "code",
   "execution_count": 21,
   "id": "9b8e62f5-bd6e-4294-9788-a6ab474169b6",
   "metadata": {},
   "outputs": [
    {
     "name": "stdout",
     "output_type": "stream",
     "text": [
      "GGR:  10541.68\n"
     ]
    }
   ],
   "source": [
    "# Overall GGR equals 10541.68 euro\n",
    "print('GGR: ', round(sum(df['stake_eur']) - sum(df['won_eur']),2))"
   ]
  },
  {
   "cell_type": "code",
   "execution_count": 22,
   "id": "b7ef737c-9298-4b77-804d-4b71cf9c8e30",
   "metadata": {},
   "outputs": [
    {
     "data": {
      "text/html": [
       "<div>\n",
       "<style scoped>\n",
       "    .dataframe tbody tr th:only-of-type {\n",
       "        vertical-align: middle;\n",
       "    }\n",
       "\n",
       "    .dataframe tbody tr th {\n",
       "        vertical-align: top;\n",
       "    }\n",
       "\n",
       "    .dataframe thead th {\n",
       "        text-align: right;\n",
       "    }\n",
       "</style>\n",
       "<table border=\"1\" class=\"dataframe\">\n",
       "  <thead>\n",
       "    <tr style=\"text-align: right;\">\n",
       "      <th></th>\n",
       "      <th>PlatformId</th>\n",
       "      <th>GGR</th>\n",
       "    </tr>\n",
       "  </thead>\n",
       "  <tbody>\n",
       "    <tr>\n",
       "      <th>0</th>\n",
       "      <td>platform_1</td>\n",
       "      <td>-1173.95</td>\n",
       "    </tr>\n",
       "    <tr>\n",
       "      <th>1</th>\n",
       "      <td>platform_2</td>\n",
       "      <td>8341.38</td>\n",
       "    </tr>\n",
       "    <tr>\n",
       "      <th>2</th>\n",
       "      <td>platform_3</td>\n",
       "      <td>3588.74</td>\n",
       "    </tr>\n",
       "    <tr>\n",
       "      <th>3</th>\n",
       "      <td>platform_4</td>\n",
       "      <td>-214.49</td>\n",
       "    </tr>\n",
       "  </tbody>\n",
       "</table>\n",
       "</div>"
      ],
      "text/plain": [
       "   PlatformId      GGR\n",
       "0  platform_1 -1173.95\n",
       "1  platform_2  8341.38\n",
       "2  platform_3  3588.74\n",
       "3  platform_4  -214.49"
      ]
     },
     "execution_count": 22,
     "metadata": {},
     "output_type": "execute_result"
    }
   ],
   "source": [
    "# platform_1 and platform_4 have negative GGR, platform_1 and platform_4 have positive GGR.\n",
    "# Maximum GGR on platform_2, minimum on platform_1\n",
    "df_ggr_by_platform = df.groupby(['PlatformId']).agg({'stake_eur': 'sum', 'won_eur': 'sum'}).reset_index()\n",
    "df_ggr_by_platform['GGR'] = df_ggr_by_platform['stake_eur'] - df_ggr_by_platform['won_eur']\n",
    "df_ggr_by_platform[['PlatformId','GGR']]"
   ]
  },
  {
   "cell_type": "code",
   "execution_count": 23,
   "id": "6b769072-d290-4f6d-8dab-0346d50d8fa9",
   "metadata": {},
   "outputs": [
    {
     "data": {
      "text/html": [
       "<div>\n",
       "<style scoped>\n",
       "    .dataframe tbody tr th:only-of-type {\n",
       "        vertical-align: middle;\n",
       "    }\n",
       "\n",
       "    .dataframe tbody tr th {\n",
       "        vertical-align: top;\n",
       "    }\n",
       "\n",
       "    .dataframe thead th {\n",
       "        text-align: right;\n",
       "    }\n",
       "</style>\n",
       "<table border=\"1\" class=\"dataframe\">\n",
       "  <thead>\n",
       "    <tr style=\"text-align: right;\">\n",
       "      <th></th>\n",
       "      <th>Currency</th>\n",
       "      <th>GGR</th>\n",
       "    </tr>\n",
       "  </thead>\n",
       "  <tbody>\n",
       "    <tr>\n",
       "      <th>0</th>\n",
       "      <td>AZN</td>\n",
       "      <td>1785.51</td>\n",
       "    </tr>\n",
       "    <tr>\n",
       "      <th>1</th>\n",
       "      <td>INR</td>\n",
       "      <td>4461.63</td>\n",
       "    </tr>\n",
       "    <tr>\n",
       "      <th>2</th>\n",
       "      <td>KZT</td>\n",
       "      <td>1877.85</td>\n",
       "    </tr>\n",
       "    <tr>\n",
       "      <th>3</th>\n",
       "      <td>TRY</td>\n",
       "      <td>2416.69</td>\n",
       "    </tr>\n",
       "  </tbody>\n",
       "</table>\n",
       "</div>"
      ],
      "text/plain": [
       "  Currency      GGR\n",
       "0      AZN  1785.51\n",
       "1      INR  4461.63\n",
       "2      KZT  1877.85\n",
       "3      TRY  2416.69"
      ]
     },
     "execution_count": 23,
     "metadata": {},
     "output_type": "execute_result"
    }
   ],
   "source": [
    "# Maximum GGR on currency INR, minimum on AZN\n",
    "df_ggr_by_currency = df.groupby(['Currency']).agg({'stake_eur': 'sum', 'won_eur': 'sum'}).reset_index()\n",
    "df_ggr_by_currency['GGR'] = df_ggr_by_currency['stake_eur'] - df_ggr_by_currency['won_eur']\n",
    "df_ggr_by_currency[['Currency','GGR']]"
   ]
  },
  {
   "cell_type": "code",
   "execution_count": 24,
   "id": "36b5bddf-cf31-4542-8651-26f49d371dbc",
   "metadata": {},
   "outputs": [
    {
     "data": {
      "text/html": [
       "<div>\n",
       "<style scoped>\n",
       "    .dataframe tbody tr th:only-of-type {\n",
       "        vertical-align: middle;\n",
       "    }\n",
       "\n",
       "    .dataframe tbody tr th {\n",
       "        vertical-align: top;\n",
       "    }\n",
       "\n",
       "    .dataframe thead th {\n",
       "        text-align: right;\n",
       "    }\n",
       "</style>\n",
       "<table border=\"1\" class=\"dataframe\">\n",
       "  <thead>\n",
       "    <tr style=\"text-align: right;\">\n",
       "      <th></th>\n",
       "      <th>UserId</th>\n",
       "      <th>GGR</th>\n",
       "    </tr>\n",
       "  </thead>\n",
       "  <tbody>\n",
       "    <tr>\n",
       "      <th>16319</th>\n",
       "      <td>p48moc0ld0</td>\n",
       "      <td>-1068.24</td>\n",
       "    </tr>\n",
       "    <tr>\n",
       "      <th>17044</th>\n",
       "      <td>q7biqfbvmy</td>\n",
       "      <td>-965.28</td>\n",
       "    </tr>\n",
       "    <tr>\n",
       "      <th>19662</th>\n",
       "      <td>u5kcq3c810</td>\n",
       "      <td>-655.27</td>\n",
       "    </tr>\n",
       "    <tr>\n",
       "      <th>18829</th>\n",
       "      <td>swpdk2jfyn</td>\n",
       "      <td>-597.21</td>\n",
       "    </tr>\n",
       "    <tr>\n",
       "      <th>4716</th>\n",
       "      <td>789gum5bbu</td>\n",
       "      <td>-592.36</td>\n",
       "    </tr>\n",
       "    <tr>\n",
       "      <th>16390</th>\n",
       "      <td>p7pt77bgsn</td>\n",
       "      <td>-589.22</td>\n",
       "    </tr>\n",
       "    <tr>\n",
       "      <th>17907</th>\n",
       "      <td>rixzaxdn91</td>\n",
       "      <td>-566.69</td>\n",
       "    </tr>\n",
       "    <tr>\n",
       "      <th>9232</th>\n",
       "      <td>e6dffafx0c</td>\n",
       "      <td>-564.21</td>\n",
       "    </tr>\n",
       "    <tr>\n",
       "      <th>22044</th>\n",
       "      <td>xwxvuyrak1</td>\n",
       "      <td>-489.12</td>\n",
       "    </tr>\n",
       "    <tr>\n",
       "      <th>14675</th>\n",
       "      <td>mkudhpoopt</td>\n",
       "      <td>-473.92</td>\n",
       "    </tr>\n",
       "  </tbody>\n",
       "</table>\n",
       "</div>"
      ],
      "text/plain": [
       "           UserId      GGR\n",
       "16319  p48moc0ld0 -1068.24\n",
       "17044  q7biqfbvmy  -965.28\n",
       "19662  u5kcq3c810  -655.27\n",
       "18829  swpdk2jfyn  -597.21\n",
       "4716   789gum5bbu  -592.36\n",
       "16390  p7pt77bgsn  -589.22\n",
       "17907  rixzaxdn91  -566.69\n",
       "9232   e6dffafx0c  -564.21\n",
       "22044  xwxvuyrak1  -489.12\n",
       "14675  mkudhpoopt  -473.92"
      ]
     },
     "execution_count": 24,
     "metadata": {},
     "output_type": "execute_result"
    }
   ],
   "source": [
    "# Top 10 users by GGR. We should check them\n",
    "df_ggr_by_client = df.groupby(['UserId']).agg({'stake_eur': 'sum', 'won_eur': 'sum'}).reset_index()\n",
    "df_ggr_by_client['GGR'] = df_ggr_by_client['stake_eur'] - df_ggr_by_client['won_eur']\n",
    "df_ggr_by_client[['UserId','GGR']].sort_values('GGR').head(10)"
   ]
  },
  {
   "cell_type": "markdown",
   "id": "77d39b02-ac77-4d45-a9fd-fdff1c6b72a7",
   "metadata": {},
   "source": [
    "## 2.2 DAU"
   ]
  },
  {
   "cell_type": "code",
   "execution_count": 25,
   "id": "0931d6a2-1a62-4a19-904f-a6d8eb6ab8a9",
   "metadata": {},
   "outputs": [
    {
     "data": {
      "text/plain": [
       "<Axes: xlabel='date'>"
      ]
     },
     "execution_count": 25,
     "metadata": {},
     "output_type": "execute_result"
    },
    {
     "data": {
      "image/png": "[encoded data removed]",
      "text/plain": [
       "<Figure size 1000x400 with 1 Axes>"
      ]
     },
     "metadata": {},
     "output_type": "display_data"
    }
   ],
   "source": [
    "# Daily active users\n",
    "plt.rcParams[\"figure.figsize\"] = (10, 4)\n",
    "df.groupby(['date'])['UserId'].nunique().plot()"
   ]
  },
  {
   "cell_type": "code",
   "execution_count": 26,
   "id": "a871695f-33aa-4c2b-a6b0-ec6e0c57d03e",
   "metadata": {},
   "outputs": [
    {
     "name": "stdout",
     "output_type": "stream",
     "text": [
      "DAU:  1348\n"
     ]
    }
   ],
   "source": [
    "# avg DAU\n",
    "df_dau = df.groupby(['date'])['UserId'].nunique().reset_index()\n",
    "print('DAU: ', int(df_dau['UserId'].mean()))"
   ]
  },
  {
   "cell_type": "code",
   "execution_count": 27,
   "id": "26b26ebe-d4c6-4bf4-9a8e-caf3d960bc6c",
   "metadata": {},
   "outputs": [
    {
     "data": {
      "text/plain": [
       "<Axes: xlabel='date'>"
      ]
     },
     "execution_count": 27,
     "metadata": {},
     "output_type": "execute_result"
    },
    {
     "data": {
      "image/png": "[encoded data removed]",
      "text/plain": [
       "<Figure size 1000x400 with 1 Axes>"
      ]
     },
     "metadata": {},
     "output_type": "display_data"
    }
   ],
   "source": [
    "# platform 1 has the most DAU\n",
    "df_bets_platform = df.groupby(['PlatformId','date'])['UserId'].nunique().reset_index() \n",
    "df_bets_platform = df_bets_platform.pivot(index='date', columns='PlatformId', values='UserId') \n",
    "df_bets_platform.plot()"
   ]
  },
  {
   "cell_type": "code",
   "execution_count": 28,
   "id": "32184006-3e34-4b62-b67f-205a304d3830",
   "metadata": {},
   "outputs": [
    {
     "data": {
      "text/html": [
       "<div>\n",
       "<style scoped>\n",
       "    .dataframe tbody tr th:only-of-type {\n",
       "        vertical-align: middle;\n",
       "    }\n",
       "\n",
       "    .dataframe tbody tr th {\n",
       "        vertical-align: top;\n",
       "    }\n",
       "\n",
       "    .dataframe thead th {\n",
       "        text-align: right;\n",
       "    }\n",
       "</style>\n",
       "<table border=\"1\" class=\"dataframe\">\n",
       "  <thead>\n",
       "    <tr style=\"text-align: right;\">\n",
       "      <th></th>\n",
       "      <th>PlatformId</th>\n",
       "      <th>DAU</th>\n",
       "    </tr>\n",
       "  </thead>\n",
       "  <tbody>\n",
       "    <tr>\n",
       "      <th>0</th>\n",
       "      <td>platform_1</td>\n",
       "      <td>620</td>\n",
       "    </tr>\n",
       "    <tr>\n",
       "      <th>1</th>\n",
       "      <td>platform_2</td>\n",
       "      <td>353</td>\n",
       "    </tr>\n",
       "    <tr>\n",
       "      <th>2</th>\n",
       "      <td>platform_3</td>\n",
       "      <td>225</td>\n",
       "    </tr>\n",
       "    <tr>\n",
       "      <th>3</th>\n",
       "      <td>platform_4</td>\n",
       "      <td>148</td>\n",
       "    </tr>\n",
       "  </tbody>\n",
       "</table>\n",
       "</div>"
      ],
      "text/plain": [
       "   PlatformId  DAU\n",
       "0  platform_1  620\n",
       "1  platform_2  353\n",
       "2  platform_3  225\n",
       "3  platform_4  148"
      ]
     },
     "execution_count": 28,
     "metadata": {},
     "output_type": "execute_result"
    }
   ],
   "source": [
    "# platform 1 has the most avg DAU 620, platform_4 only 148\n",
    "df_dau_by_platform = df.groupby(['PlatformId','date'])['UserId'].nunique().reset_index()\n",
    "df_dau_by_platform = df_dau_by_platform.groupby('PlatformId')['UserId'].mean().reset_index()\n",
    "df_dau_by_platform = df_dau_by_platform.rename(columns={'UserId': 'DAU'})\n",
    "df_dau_by_platform['DAU'] = (df_dau_by_platform['DAU']).astype(int)\n",
    "df_dau_by_platform"
   ]
  },
  {
   "cell_type": "markdown",
   "id": "5581d91a-3252-4a81-9e9e-f2939146cfa5",
   "metadata": {},
   "source": [
    "## 2.3 RTP"
   ]
  },
  {
   "cell_type": "code",
   "execution_count": 29,
   "id": "8355a335-ef70-40aa-bfde-e1aca5805245",
   "metadata": {},
   "outputs": [
    {
     "name": "stdout",
     "output_type": "stream",
     "text": [
      "RTP:  93.39\n"
     ]
    }
   ],
   "source": [
    "print('RTP: ', round(sum(df['won_eur']) / sum(df['stake_eur'])*100, 2))"
   ]
  },
  {
   "cell_type": "code",
   "execution_count": 30,
   "id": "5a764c2b-ffe2-4d1a-ba92-015b7b40cb03",
   "metadata": {},
   "outputs": [
    {
     "data": {
      "text/html": [
       "<div>\n",
       "<style scoped>\n",
       "    .dataframe tbody tr th:only-of-type {\n",
       "        vertical-align: middle;\n",
       "    }\n",
       "\n",
       "    .dataframe tbody tr th {\n",
       "        vertical-align: top;\n",
       "    }\n",
       "\n",
       "    .dataframe thead th {\n",
       "        text-align: right;\n",
       "    }\n",
       "</style>\n",
       "<table border=\"1\" class=\"dataframe\">\n",
       "  <thead>\n",
       "    <tr style=\"text-align: right;\">\n",
       "      <th></th>\n",
       "      <th>PlatformId</th>\n",
       "      <th>RTP</th>\n",
       "    </tr>\n",
       "  </thead>\n",
       "  <tbody>\n",
       "    <tr>\n",
       "      <th>0</th>\n",
       "      <td>platform_1</td>\n",
       "      <td>103.48</td>\n",
       "    </tr>\n",
       "    <tr>\n",
       "      <th>1</th>\n",
       "      <td>platform_2</td>\n",
       "      <td>86.92</td>\n",
       "    </tr>\n",
       "    <tr>\n",
       "      <th>2</th>\n",
       "      <td>platform_3</td>\n",
       "      <td>89.75</td>\n",
       "    </tr>\n",
       "    <tr>\n",
       "      <th>3</th>\n",
       "      <td>platform_4</td>\n",
       "      <td>100.80</td>\n",
       "    </tr>\n",
       "  </tbody>\n",
       "</table>\n",
       "</div>"
      ],
      "text/plain": [
       "   PlatformId     RTP\n",
       "0  platform_1  103.48\n",
       "1  platform_2   86.92\n",
       "2  platform_3   89.75\n",
       "3  platform_4  100.80"
      ]
     },
     "execution_count": 30,
     "metadata": {},
     "output_type": "execute_result"
    }
   ],
   "source": [
    "# platform_1 and platform_4 have very high RTP, platform_2 and platform_3 very low \n",
    "df_rtp_by_platform = df.groupby(['PlatformId']).agg({'stake_eur': 'sum', 'won_eur': 'sum'}).reset_index()\n",
    "df_rtp_by_platform['RTP'] = round(df_rtp_by_platform['won_eur'] / df_rtp_by_platform['stake_eur']*100, 2)\n",
    "df_rtp_by_platform[['PlatformId','RTP']]"
   ]
  },
  {
   "cell_type": "code",
   "execution_count": 31,
   "id": "161a73f5-d9e3-4dd1-8262-a2dfab72188f",
   "metadata": {},
   "outputs": [
    {
     "data": {
      "text/html": [
       "<div>\n",
       "<style scoped>\n",
       "    .dataframe tbody tr th:only-of-type {\n",
       "        vertical-align: middle;\n",
       "    }\n",
       "\n",
       "    .dataframe tbody tr th {\n",
       "        vertical-align: top;\n",
       "    }\n",
       "\n",
       "    .dataframe thead th {\n",
       "        text-align: right;\n",
       "    }\n",
       "</style>\n",
       "<table border=\"1\" class=\"dataframe\">\n",
       "  <thead>\n",
       "    <tr style=\"text-align: right;\">\n",
       "      <th></th>\n",
       "      <th>UserId</th>\n",
       "      <th>RTP</th>\n",
       "    </tr>\n",
       "  </thead>\n",
       "  <tbody>\n",
       "    <tr>\n",
       "      <th>5520</th>\n",
       "      <td>8h3h2ennap</td>\n",
       "      <td>2548.72</td>\n",
       "    </tr>\n",
       "    <tr>\n",
       "      <th>12930</th>\n",
       "      <td>juyw2gyh9j</td>\n",
       "      <td>2700.00</td>\n",
       "    </tr>\n",
       "    <tr>\n",
       "      <th>11637</th>\n",
       "      <td>hyum7qqi3z</td>\n",
       "      <td>2753.85</td>\n",
       "    </tr>\n",
       "    <tr>\n",
       "      <th>7018</th>\n",
       "      <td>arc03xt0zx</td>\n",
       "      <td>3194.12</td>\n",
       "    </tr>\n",
       "    <tr>\n",
       "      <th>5178</th>\n",
       "      <td>7x250ns18d</td>\n",
       "      <td>3263.16</td>\n",
       "    </tr>\n",
       "    <tr>\n",
       "      <th>7447</th>\n",
       "      <td>bep4ro4i7e</td>\n",
       "      <td>4075.00</td>\n",
       "    </tr>\n",
       "    <tr>\n",
       "      <th>19485</th>\n",
       "      <td>tuznp2zaze</td>\n",
       "      <td>5775.00</td>\n",
       "    </tr>\n",
       "    <tr>\n",
       "      <th>12669</th>\n",
       "      <td>ji7a0w8w9z</td>\n",
       "      <td>6250.00</td>\n",
       "    </tr>\n",
       "    <tr>\n",
       "      <th>20633</th>\n",
       "      <td>vodakyaji1</td>\n",
       "      <td>10366.67</td>\n",
       "    </tr>\n",
       "    <tr>\n",
       "      <th>4807</th>\n",
       "      <td>7d932s55ko</td>\n",
       "      <td>13385.71</td>\n",
       "    </tr>\n",
       "  </tbody>\n",
       "</table>\n",
       "</div>"
      ],
      "text/plain": [
       "           UserId       RTP\n",
       "5520   8h3h2ennap   2548.72\n",
       "12930  juyw2gyh9j   2700.00\n",
       "11637  hyum7qqi3z   2753.85\n",
       "7018   arc03xt0zx   3194.12\n",
       "5178   7x250ns18d   3263.16\n",
       "7447   bep4ro4i7e   4075.00\n",
       "19485  tuznp2zaze   5775.00\n",
       "12669  ji7a0w8w9z   6250.00\n",
       "20633  vodakyaji1  10366.67\n",
       "4807   7d932s55ko  13385.71"
      ]
     },
     "execution_count": 31,
     "metadata": {},
     "output_type": "execute_result"
    }
   ],
   "source": [
    "# Top 10 users by RTP. We should check them\n",
    "df_rtp_by_client = df.groupby(['UserId']).agg({'stake_eur': 'sum', 'won_eur': 'sum'}).reset_index()\n",
    "df_rtp_by_client['RTP'] = round(df_rtp_by_client['won_eur'] / df_rtp_by_client['stake_eur']*100, 2)\n",
    "df_rtp_by_client[['UserId','RTP']].sort_values('RTP').tail(10)"
   ]
  },
  {
   "cell_type": "markdown",
   "id": "fa174d95-c33f-4bbe-bddf-d97fb59fb53a",
   "metadata": {},
   "source": [
    "## 3. Attempt to evaluate user engagement: devise metrics and justify their use."
   ]
  },
  {
   "cell_type": "markdown",
   "id": "25a931ae-7c31-4558-b077-7b4b338ddc4a",
   "metadata": {},
   "source": [
    "## 3.1 Lifetime"
   ]
  },
  {
   "cell_type": "code",
   "execution_count": 32,
   "id": "58e81289-8173-47ef-bc1b-1a1ee66f252a",
   "metadata": {},
   "outputs": [
    {
     "data": {
      "text/plain": [
       "Timedelta('5 days 10:57:24.844853413')"
      ]
     },
     "execution_count": 32,
     "metadata": {},
     "output_type": "execute_result"
    }
   ],
   "source": [
    "# On average, users use the product for 6 days (It is better to count from the date of registration)\n",
    "# The longer the user interacts with the platform, the more bets he places\n",
    "df_lt = df.groupby(['UserId']).agg(date_min=('date', 'min'),date_max=('date', 'max')).reset_index()\n",
    "df_lt['days'] = (pd.to_datetime(df_lt['date_max']) - pd.to_datetime(df_lt['date_min'])) \n",
    "df_lt['days'].mean()"
   ]
  },
  {
   "cell_type": "code",
   "execution_count": 33,
   "id": "16d69992-199e-48c1-b8fd-b36f1b2c0466",
   "metadata": {},
   "outputs": [
    {
     "data": {
      "text/plain": [
       "PlatformId\n",
       "platform_1   5 days 21:21:40.970873786\n",
       "platform_2   5 days 04:47:04.577987846\n",
       "platform_3   4 days 15:25:38.054474708\n",
       "platform_4   5 days 09:22:39.870024370\n",
       "Name: days, dtype: timedelta64[ns]"
      ]
     },
     "execution_count": 33,
     "metadata": {},
     "output_type": "execute_result"
    }
   ],
   "source": [
    "# On average, users on platform_3 are the least (5 days)\n",
    "# The more bets the user places, the more we earn\n",
    "df_lt_by_platform = df.groupby(['UserId', 'PlatformId']).agg(date_min=('date', 'min'),date_max=('date', 'max')).reset_index()\n",
    "df_lt_by_platform['days'] = (pd.to_datetime(df_lt_by_platform['date_max']) - pd.to_datetime(df_lt_by_platform['date_min'])) \n",
    "df_lt_by_platform.groupby(['PlatformId'])['days'].mean()"
   ]
  },
  {
   "cell_type": "markdown",
   "id": "43d79f27-385b-444f-bfcc-b62e4713b775",
   "metadata": {},
   "source": [
    "## 3.2 Bets"
   ]
  },
  {
   "cell_type": "code",
   "execution_count": 34,
   "id": "af175cbb-c790-4777-83c9-40c139437018",
   "metadata": {},
   "outputs": [
    {
     "name": "stdout",
     "output_type": "stream",
     "text": [
      "Bets:  4.25\n"
     ]
    }
   ],
   "source": [
    "# During the entire time of interaction with the product, on average, users place 4.3 bets\n",
    "df_bets = df.groupby(['UserId']).agg(bets=('stake_currency', 'count')).reset_index()\n",
    "print('Bets: ', round((df_bets['bets']).mean(),2))"
   ]
  },
  {
   "cell_type": "code",
   "execution_count": 35,
   "id": "58b3f36a-9ac7-49e9-a5f3-5e5244a92fca",
   "metadata": {},
   "outputs": [
    {
     "data": {
      "text/plain": [
       "PlatformId\n",
       "platform_1    3.605268\n",
       "platform_2    4.874916\n",
       "platform_3    4.843320\n",
       "platform_4    4.752234\n",
       "Name: bets, dtype: float64"
      ]
     },
     "execution_count": 35,
     "metadata": {},
     "output_type": "execute_result"
    }
   ],
   "source": [
    "# Least on platform_1 (3.6 bets)\n",
    "df_bets_by_platform = df.groupby(['UserId', 'PlatformId']).agg(bets=('stake_currency', 'count')).reset_index()\n",
    "df_bets_by_platform.groupby(['PlatformId'])['bets'].mean()"
   ]
  },
  {
   "cell_type": "code",
   "execution_count": 36,
   "id": "1d5d12b2-c197-49bf-9da1-b42d6bc87e2e",
   "metadata": {},
   "outputs": [
    {
     "name": "stdout",
     "output_type": "stream",
     "text": [
      "LT bets sum:  0.95\n"
     ]
    }
   ],
   "source": [
    "# During the entire time of interaction with the product, Life time bets sum is 0.95 euro\n",
    "df_bet_mean = df.groupby(['UserId']).agg(bets=('stake_eur', 'mean')).reset_index()\n",
    "print('LT bets sum: ', round(df_bet_mean['bets'].mean(), 2))"
   ]
  },
  {
   "cell_type": "code",
   "execution_count": 37,
   "id": "14564cde-efec-4833-b218-b3eb10ea479b",
   "metadata": {},
   "outputs": [
    {
     "data": {
      "text/html": [
       "<div>\n",
       "<style scoped>\n",
       "    .dataframe tbody tr th:only-of-type {\n",
       "        vertical-align: middle;\n",
       "    }\n",
       "\n",
       "    .dataframe tbody tr th {\n",
       "        vertical-align: top;\n",
       "    }\n",
       "\n",
       "    .dataframe thead th {\n",
       "        text-align: right;\n",
       "    }\n",
       "</style>\n",
       "<table border=\"1\" class=\"dataframe\">\n",
       "  <thead>\n",
       "    <tr style=\"text-align: right;\">\n",
       "      <th></th>\n",
       "      <th>PlatformId</th>\n",
       "      <th>bets</th>\n",
       "    </tr>\n",
       "  </thead>\n",
       "  <tbody>\n",
       "    <tr>\n",
       "      <th>0</th>\n",
       "      <td>platform_1</td>\n",
       "      <td>0.474514</td>\n",
       "    </tr>\n",
       "    <tr>\n",
       "      <th>1</th>\n",
       "      <td>platform_2</td>\n",
       "      <td>1.411572</td>\n",
       "    </tr>\n",
       "    <tr>\n",
       "      <th>2</th>\n",
       "      <td>platform_3</td>\n",
       "      <td>1.100659</td>\n",
       "    </tr>\n",
       "    <tr>\n",
       "      <th>3</th>\n",
       "      <td>platform_4</td>\n",
       "      <td>1.717551</td>\n",
       "    </tr>\n",
       "  </tbody>\n",
       "</table>\n",
       "</div>"
      ],
      "text/plain": [
       "   PlatformId      bets\n",
       "0  platform_1  0.474514\n",
       "1  platform_2  1.411572\n",
       "2  platform_3  1.100659\n",
       "3  platform_4  1.717551"
      ]
     },
     "execution_count": 37,
     "metadata": {},
     "output_type": "execute_result"
    }
   ],
   "source": [
    "# platform_1 has the lowest avg bet, platform_4 the highest\n",
    "df_bet_mean_by_platform = df.groupby(['PlatformId','UserId']).agg(bets=('stake_eur', 'mean')).reset_index()\n",
    "df_bet_mean_by_platform.groupby(['PlatformId'])['bets'].mean().reset_index()"
   ]
  },
  {
   "cell_type": "markdown",
   "id": "bf3df339-d4b9-4b9f-860e-240b4b1201ff",
   "metadata": {},
   "source": [
    " ## 4. What additional fields/events would you request to implement for more thorough research?"
   ]
  },
  {
   "cell_type": "code",
   "execution_count": 38,
   "id": "6e1254d6-f150-437b-bb44-728e13e01a67",
   "metadata": {},
   "outputs": [
    {
     "data": {
      "text/plain": [
       "\"\\n- I would like to calculate retention, for this I need to know the registration date. See which platform users stay on longer. What \\n    recent events distinguish between the user who continues to play and the one who leaves.\\n- It would also be interesting to analyze deposits and the use of bonuses. How bonuses affect user behavior. What bonuses have a positive \\n    effect on the player's interest.\\n- Using the start and end of the session, you can look at the duration of the sessions. The longer the session, the more the user bets.\\n- Find out the reason for withdrawing money. Next, create favorable conditions so that the user does not want to withdraw them (bonuses, \\n    transferring withdrawals to the morning)\\n- VIP analysis: motivation of ordinary users to switch to VIP status.\\n- The influence of communications on user behavior: social networks, SMS, telegrams, etc.\\n- Bonuses, commissions. As a result, proceed to the calculation of NGR and DTPTL.\\n\""
      ]
     },
     "execution_count": 38,
     "metadata": {},
     "output_type": "execute_result"
    }
   ],
   "source": [
    "'''\n",
    "- I would like to calculate retention, for this I need to know the registration date. See which platform users stay on longer. What \n",
    "    recent events distinguish between the user who continues to play and the one who leaves.\n",
    "- It would also be interesting to analyze deposits and the use of bonuses. How bonuses affect user behavior. What bonuses have a positive \n",
    "    effect on the player's interest.\n",
    "- Using the start and end of the session, you can look at the duration of the sessions. The longer the session, the more the user bets.\n",
    "- Find out the reason for withdrawing money. Next, create favorable conditions so that the user does not want to withdraw them (bonuses, \n",
    "    transferring withdrawals to the morning)\n",
    "- VIP analysis: motivation of ordinary users to switch to VIP status.\n",
    "- The influence of communications on user behavior: social networks, SMS, telegrams, etc.\n",
    "- Bonuses, commissions. As a result, proceed to the calculation of NGR and DTPTL.\n",
    "'''"
   ]
  }
 ],
 "metadata": {
  "kernelspec": {
   "display_name": "Python 3 (ipykernel)",
   "language": "python",
   "name": "python3"
  },
  "language_info": {
   "codemirror_mode": {
    "name": "ipython",
    "version": 3
   },
   "file_extension": ".py",
   "mimetype": "text/x-python",
   "name": "python",
   "nbconvert_exporter": "python",
   "pygments_lexer": "ipython3",
   "version": "3.8.18"
  }
 },
 "nbformat": 4,
 "nbformat_minor": 5
}
